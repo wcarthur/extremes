{
 "cells": [
  {
   "cell_type": "code",
   "execution_count": 28,
   "metadata": {},
   "outputs": [],
   "source": [
    "%matplotlib inline\r\n",
    "import numpy as np\r\n",
    "import pandas as pd\r\n",
    "from rpy2.robjects.packages import importr\r\n",
    "from rpy2.robjects import numpy2ri\r\n",
    "\r\n",
    "import matplotlib.pyplot as plt\r\n",
    "import seaborn as sns\r\n",
    "sns.set_style('whitegrid')\r\n",
    "\r\n",
    "base = importr('base')\r\n",
    "utils = importr('utils')\r\n",
    "evmix = importr('evmix')\r\n",
    "stats = importr('stats')\r\n",
    "numpy2ri.activate()"
   ]
  },
  {
   "cell_type": "code",
   "execution_count": 24,
   "metadata": {},
   "outputs": [],
   "source": [
    "inputPath = r\"X:\\georisk\\HaRIA_B_Wind\\data\\raw\\from_bom\\2019\\Daily\"\r\n",
    "stnNum = 4090\r\n",
    "fname = f\"DC02D_Data_{stnNum:06d}_999999999632559.txt\"\r\n",
    "paramdf = pd.read_csv(r\"X:\\georisk\\HaRIA_B_Wind\\data\\derived\\obs\\daily_max_wind\\wind\\gammagpd_iterative\\004090.csv\")\r\n",
    "df = pd.read_csv(os.path.join(inputPath, fname), skipinitialspace=True)\r\n",
    "gust = df[df['Quality of maximum gust speed']=='Y']['Speed of maximum wind gust in m/s'].dropna().values"
   ]
  },
  {
   "cell_type": "code",
   "execution_count": 25,
   "metadata": {},
   "outputs": [],
   "source": [
    "def ppoints(n, a=0.375):\r\n",
    "    if isinstance(n, int):\r\n",
    "        m = np.arange(1, n + 1)\r\n",
    "        if n > 10:\r\n",
    "            a = 0.5\r\n",
    "    else:\r\n",
    "        m = np.arange(1, len(n) + 1)\r\n",
    "        if len(n) > 10:\r\n",
    "            a = 0.5\r\n",
    "    pp = (m - a)/(m[-1] + (1 - a) - a)\r\n",
    "    return pp"
   ]
  },
  {
   "cell_type": "code",
   "execution_count": 4,
   "metadata": {},
   "outputs": [],
   "source": [
    "def calcEP(n):\r\n",
    "    empprob = ppoints(n)\r\n",
    "    transempprob = -1/np.log(empprob)\r\n",
    "    minemppower = -np.log10(1 - 1/n/100)\r\n",
    "    maxemppower = np.ceil(np.log10(np.max(transempprob))) + 1\r\n",
    "    theprob = 1 - np.power(10, -np.arange(minemppower, maxemppower + 0.05, 0.05))\r\n",
    "    theprob = np.sort(np.concatenate((theprob, 1 - theprob)))\r\n",
    "    transtheprob = -1/np.log(theprob)\r\n",
    "    ep = 1 - np.exp(-1/(transtheprob/365.25))\r\n",
    "    return ep"
   ]
  },
  {
   "cell_type": "code",
   "execution_count": 26,
   "metadata": {},
   "outputs": [],
   "source": [
    "n = len(gust)\r\n",
    "empprob = ppoints(n)\r\n",
    "transempprob = -1/np.log(empprob)\r\n",
    "minemppower = -np.log10(1 - 1/n/100)\r\n",
    "maxemppower = np.ceil(np.log10(np.max(transempprob))) + 1\r\n",
    "theprob = 1 - np.power(10, -np.arange(minemppower, maxemppower + 0.05, 0.05))\r\n",
    "theprob = np.sort(np.concatenate((theprob, 1 - theprob)))\r\n",
    "transtheprob = -1/np.log(theprob)\r\n",
    "ep = 1 - np.exp(-1/(transtheprob/365.25))"
   ]
  },
  {
   "cell_type": "code",
   "execution_count": 35,
   "metadata": {},
   "outputs": [],
   "source": [
    "empep = 1 - np.exp(-1/(transempprob/365.25))"
   ]
  },
  {
   "cell_type": "code",
   "execution_count": 44,
   "metadata": {},
   "outputs": [
    {
     "data": {
      "image/png": "[encoded data removed]",
      "text/plain": [
       "<Figure size 432x288 with 1 Axes>"
      ]
     },
     "metadata": {},
     "output_type": "display_data"
    }
   ],
   "source": [
    "fig, ax = plt.subplots(1, 1)\r\n",
    "for idx, row in paramdf.iterrows():\r\n",
    "    thequant = evmix.qgammagpd(theprob, row.gshape, row.gscale, row.u, row.sigmau, row.xi, row.phiu)\r\n",
    "    ax.plot(thequant, ep, color='0.75', linewidth=1)\r\n",
    "\r\n",
    "idx = np.where(empep < 0.999)[0]\r\n",
    "xmin = int(np.sort(gust)[idx][0] / 5) * 5\r\n",
    "xmax = (int(gust.max() / 5) + 2) * 5\r\n",
    "ax.scatter(np.sort(gust)[idx], empep[idx], s=20, color='k', marker='x', label='Data', zorder=100,)\r\n",
    "ax.set_yscale('log')\r\n"
   ]
  },
  {
   "cell_type": "code",
   "execution_count": 38,
   "metadata": {},
   "outputs": [
    {
     "data": {
      "text/plain": [
       "(array([5039, 5040, 5041, 5042, 5043, 5044, 5045, 5046, 5047, 5048, 5049,\n",
       "        5050, 5051, 5052, 5053, 5054, 5055, 5056, 5057, 5058, 5059, 5060,\n",
       "        5061, 5062, 5063, 5064, 5065, 5066, 5067, 5068, 5069, 5070, 5071,\n",
       "        5072, 5073, 5074, 5075, 5076, 5077, 5078, 5079, 5080, 5081, 5082,\n",
       "        5083, 5084, 5085, 5086, 5087, 5088, 5089, 5090, 5091, 5092, 5093,\n",
       "        5094, 5095, 5096, 5097, 5098, 5099, 5100, 5101, 5102], dtype=int64),)"
      ]
     },
     "execution_count": 38,
     "metadata": {},
     "output_type": "execute_result"
    }
   ],
   "source": [
    "np.where(empep < 0.99)"
   ]
  }
 ],
 "metadata": {
  "interpreter": {
   "hash": "86a561845ea3c7f992c724e4e6ff882a49e12de870605ad2e0a0567a4b39c4bc"
  },
  "kernelspec": {
   "display_name": "Python 3.9.12 64-bit ('process': conda)",
   "name": "python3"
  },
  "language_info": {
   "codemirror_mode": {
    "name": "ipython",
    "version": 3
   },
   "file_extension": ".py",
   "mimetype": "text/x-python",
   "name": "python",
   "nbconvert_exporter": "python",
   "pygments_lexer": "ipython3",
   "version": "3.7.12"
  },
  "orig_nbformat": 4
 },
 "nbformat": 4,
 "nbformat_minor": 2
}